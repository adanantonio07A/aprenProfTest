{
  "nbformat": 4,
  "nbformat_minor": 0,
  "metadata": {
    "colab": {
      "provenance": []
    },
    "kernelspec": {
      "name": "python3",
      "display_name": "Python 3"
    },
    "language_info": {
      "name": "python"
    }
  },
  "cells": [
    {
      "cell_type": "code",
      "metadata": {
        "id": "wMogHZAJxaPE",
        "colab": {
          "base_uri": "https://localhost:8080/"
        },
        "outputId": "3954f264-c396-4a8f-fa80-92872aea45c1"
      },
      "source": [
        "import numpy as np\n",
        "import matplotlib.pyplot as plt\n",
        "import tensorflow as tf\n",
        "import keras\n",
        "\n",
        "num_classes =10\n",
        "input_shape= (28,28,1)\n",
        "\n",
        "#Dividir los datos entre un set de entrenamiento y un set de prueba\n",
        "(x_train, y_train), (x_test, y_test) = tf.keras.datasets.mnist.load_data()\n",
        "\n",
        "#Escalar las imagenes en un rango entre 0 y 1\n",
        "x_train=x_train.astype(\"float32\") / 255\n",
        "x_test=x_test.astype(\"float32\") / 255\n",
        "#Darle a las imagenes un tamano de (28,28,1)\n",
        "x_train=np.expand_dims(x_train, -1)\n",
        "x_test=np.expand_dims(x_test, -1)\n",
        "print(\"x_train shape:\", x_train.shape)\n",
        "print(x_train.shape[0], \"train samples\")\n",
        "print(x_test.shape[0], \"test samples\")"
      ],
      "execution_count": 1,
      "outputs": [
        {
          "output_type": "stream",
          "name": "stdout",
          "text": [
            "Downloading data from https://storage.googleapis.com/tensorflow/tf-keras-datasets/mnist.npz\n",
            "11490434/11490434 [==============================] - 1s 0us/step\n",
            "x_train shape: (60000, 28, 28, 1)\n",
            "60000 train samples\n",
            "10000 test samples\n"
          ]
        }
      ]
    },
    {
      "cell_type": "code",
      "metadata": {
        "id": "VTSuuVJB4xMs",
        "colab": {
          "base_uri": "https://localhost:8080/"
        },
        "outputId": "094ee138-178a-4450-f5f5-1d8d1a454cd0"
      },
      "source": [
        "# Convertir las clases (etiquetas en salidas)\n",
        "print(y_train)\n",
        "y_train = tf.keras.utils.to_categorical(y_train, num_classes)\n",
        "\n",
        "y_test = tf.keras.utils.to_categorical(y_test,10)"
      ],
      "execution_count": 2,
      "outputs": [
        {
          "output_type": "stream",
          "name": "stdout",
          "text": [
            "[5 0 4 ... 5 6 8]\n"
          ]
        }
      ]
    },
    {
      "cell_type": "code",
      "metadata": {
        "colab": {
          "base_uri": "https://localhost:8080/",
          "height": 433
        },
        "id": "Bt6P6-qd66nJ",
        "outputId": "593b785e-fdcb-40e1-b8c1-9e9ae182a330"
      },
      "source": [
        "for i in range(12):\n",
        "  plt.subplot(3,4,i+1)\n",
        "  #plt.subplot(3, 3, i)\n",
        "  plt.imshow(x_train[i, :,:,0], cmap=plt.get_cmap('gray'))\n",
        "plt.show()"
      ],
      "execution_count": 3,
      "outputs": [
        {
          "output_type": "display_data",
          "data": {
            "text/plain": [
              "<Figure size 640x480 with 12 Axes>"
            ],
            "image/png": "[encoded data removed]"
          },
          "metadata": {}
        }
      ]
    },
    {
      "cell_type": "code",
      "metadata": {
        "colab": {
          "base_uri": "https://localhost:8080/"
        },
        "id": "w-XF-98B-HNR",
        "outputId": "c3c21873-678c-4f58-80e6-8ce5ac09cce2"
      },
      "source": [
        "from tensorflow.keras import layers\n",
        "model = keras.Sequential(\n",
        "    [\n",
        "     keras.Input(shape=input_shape),\n",
        "     layers.Conv2D(32,kernel_size=(3,3), activation='relu'),\n",
        "     layers.MaxPool2D(pool_size=(2,2)),\n",
        "     layers.Conv2D(64,kernel_size=(3,3), activation='relu'),\n",
        "     layers.MaxPool2D(pool_size=(2,2)),\n",
        "     layers.Flatten(),\n",
        "     layers.Dropout(0.5),\n",
        "     layers.Dense(num_classes,activation='softmax'),\n",
        "    ]\n",
        ")\n",
        "\n",
        "model.summary()"
      ],
      "execution_count": 4,
      "outputs": [
        {
          "output_type": "stream",
          "name": "stdout",
          "text": [
            "Model: \"sequential\"\n",
            "_________________________________________________________________\n",
            " Layer (type)                Output Shape              Param #   \n",
            "=================================================================\n",
            " conv2d (Conv2D)             (None, 26, 26, 32)        320       \n",
            "                                                                 \n",
            " max_pooling2d (MaxPooling2  (None, 13, 13, 32)        0         \n",
            " D)                                                              \n",
            "                                                                 \n",
            " conv2d_1 (Conv2D)           (None, 11, 11, 64)        18496     \n",
            "                                                                 \n",
            " max_pooling2d_1 (MaxPoolin  (None, 5, 5, 64)          0         \n",
            " g2D)                                                            \n",
            "                                                                 \n",
            " flatten (Flatten)           (None, 1600)              0         \n",
            "                                                                 \n",
            " dropout (Dropout)           (None, 1600)              0         \n",
            "                                                                 \n",
            " dense (Dense)               (None, 10)                16010     \n",
            "                                                                 \n",
            "=================================================================\n",
            "Total params: 34826 (136.04 KB)\n",
            "Trainable params: 34826 (136.04 KB)\n",
            "Non-trainable params: 0 (0.00 Byte)\n",
            "_________________________________________________________________\n"
          ]
        }
      ]
    },
    {
      "cell_type": "code",
      "metadata": {
        "colab": {
          "base_uri": "https://localhost:8080/"
        },
        "id": "aPc2L6lpDAMR",
        "outputId": "27f87716-d8b6-463b-9179-30a967d9f956"
      },
      "source": [
        "#Entrenar el modelo\n",
        "batch_size = 128\n",
        "epochs = 20\n",
        "model.compile(loss=\"categorical_crossentropy\", optimizer=\"adam\", metrics=[\"accuracy\"])\n",
        "model.fit(x_train, y_train, batch_size=batch_size, epochs=epochs, validation_split=0.1)\n",
        "\n"
      ],
      "execution_count": 5,
      "outputs": [
        {
          "output_type": "stream",
          "name": "stdout",
          "text": [
            "Epoch 1/20\n",
            "422/422 [==============================] - 44s 101ms/step - loss: 0.3614 - accuracy: 0.8925 - val_loss: 0.0823 - val_accuracy: 0.9762\n",
            "Epoch 2/20\n",
            "422/422 [==============================] - 42s 98ms/step - loss: 0.1126 - accuracy: 0.9657 - val_loss: 0.0573 - val_accuracy: 0.9847\n",
            "Epoch 3/20\n",
            "422/422 [==============================] - 41s 97ms/step - loss: 0.0840 - accuracy: 0.9741 - val_loss: 0.0455 - val_accuracy: 0.9888\n",
            "Epoch 4/20\n",
            "422/422 [==============================] - 41s 98ms/step - loss: 0.0691 - accuracy: 0.9788 - val_loss: 0.0418 - val_accuracy: 0.9878\n",
            "Epoch 5/20\n",
            "422/422 [==============================] - 41s 96ms/step - loss: 0.0627 - accuracy: 0.9805 - val_loss: 0.0366 - val_accuracy: 0.9897\n",
            "Epoch 6/20\n",
            "422/422 [==============================] - 41s 98ms/step - loss: 0.0554 - accuracy: 0.9829 - val_loss: 0.0348 - val_accuracy: 0.9913\n",
            "Epoch 7/20\n",
            "422/422 [==============================] - 41s 97ms/step - loss: 0.0509 - accuracy: 0.9837 - val_loss: 0.0344 - val_accuracy: 0.9902\n",
            "Epoch 8/20\n",
            "422/422 [==============================] - 41s 97ms/step - loss: 0.0486 - accuracy: 0.9850 - val_loss: 0.0327 - val_accuracy: 0.9912\n",
            "Epoch 9/20\n",
            "422/422 [==============================] - 41s 98ms/step - loss: 0.0453 - accuracy: 0.9859 - val_loss: 0.0288 - val_accuracy: 0.9922\n",
            "Epoch 10/20\n",
            "422/422 [==============================] - 43s 102ms/step - loss: 0.0408 - accuracy: 0.9873 - val_loss: 0.0294 - val_accuracy: 0.9920\n",
            "Epoch 11/20\n",
            "422/422 [==============================] - 42s 100ms/step - loss: 0.0390 - accuracy: 0.9879 - val_loss: 0.0281 - val_accuracy: 0.9933\n",
            "Epoch 12/20\n",
            "422/422 [==============================] - 41s 98ms/step - loss: 0.0368 - accuracy: 0.9884 - val_loss: 0.0307 - val_accuracy: 0.9918\n",
            "Epoch 13/20\n",
            "422/422 [==============================] - 41s 97ms/step - loss: 0.0360 - accuracy: 0.9890 - val_loss: 0.0282 - val_accuracy: 0.9915\n",
            "Epoch 14/20\n",
            "422/422 [==============================] - 41s 98ms/step - loss: 0.0348 - accuracy: 0.9889 - val_loss: 0.0295 - val_accuracy: 0.9913\n",
            "Epoch 15/20\n",
            "422/422 [==============================] - 41s 97ms/step - loss: 0.0332 - accuracy: 0.9888 - val_loss: 0.0296 - val_accuracy: 0.9922\n",
            "Epoch 16/20\n",
            "422/422 [==============================] - 41s 97ms/step - loss: 0.0324 - accuracy: 0.9890 - val_loss: 0.0278 - val_accuracy: 0.9917\n",
            "Epoch 17/20\n",
            "422/422 [==============================] - 41s 98ms/step - loss: 0.0304 - accuracy: 0.9902 - val_loss: 0.0269 - val_accuracy: 0.9927\n",
            "Epoch 18/20\n",
            "422/422 [==============================] - 41s 98ms/step - loss: 0.0299 - accuracy: 0.9901 - val_loss: 0.0281 - val_accuracy: 0.9922\n",
            "Epoch 19/20\n",
            "422/422 [==============================] - 41s 98ms/step - loss: 0.0275 - accuracy: 0.9906 - val_loss: 0.0288 - val_accuracy: 0.9922\n",
            "Epoch 20/20\n",
            "422/422 [==============================] - 41s 98ms/step - loss: 0.0280 - accuracy: 0.9903 - val_loss: 0.0278 - val_accuracy: 0.9922\n"
          ]
        },
        {
          "output_type": "execute_result",
          "data": {
            "text/plain": [
              "<keras.src.callbacks.History at 0x7b2da66e9870>"
            ]
          },
          "metadata": {},
          "execution_count": 5
        }
      ]
    },
    {
      "cell_type": "code",
      "metadata": {
        "colab": {
          "base_uri": "https://localhost:8080/"
        },
        "id": "wYkR_tfDEjZg",
        "outputId": "d1316013-51a8-4ffd-80bf-cc7bfa5adbbf"
      },
      "source": [
        "#Evaluar el modelo\n",
        "score = model.evaluate(x_test, y_test, verbose=0)\n",
        "print(\"Test loss:\", score[0])\n",
        "print(\"Test accuracy:\", score[1])"
      ],
      "execution_count": 6,
      "outputs": [
        {
          "output_type": "stream",
          "name": "stdout",
          "text": [
            "Test loss: 0.023946888744831085\n",
            "Test accuracy: 0.9922000169754028\n"
          ]
        }
      ]
    },
    {
      "cell_type": "code",
      "metadata": {
        "colab": {
          "base_uri": "https://localhost:8080/",
          "height": 763
        },
        "id": "q273ClG3LI5O",
        "outputId": "e68bf5e2-d7ee-4963-89f9-9fb5e9ddcfca"
      },
      "source": [
        "# Visualizar los resultados del sistema\n",
        "for i in range(9):\n",
        "  # define subplot\n",
        "  plt.subplot(330 + 1 + i)\n",
        "  # plot raw pixel data\n",
        "  plt.imshow(x_test[i,:,:,0], cmap=plt.get_cmap('gray'))\n",
        "# show the figure\n",
        "plt.show()\n",
        "xr=np.expand_dims(x_test, 1)\n",
        "print(xr[0].shape)\n",
        "\n",
        "for i in range(9):\n",
        "  resultado = model.predict(xr[i],batch_size = 0)\n",
        "  argumento = np.argmax(resultado)\n",
        "  print('Prediccion: ',argumento, 'Real: ', np.argmax(y_test[i]))"
      ],
      "execution_count": 7,
      "outputs": [
        {
          "output_type": "display_data",
          "data": {
            "text/plain": [
              "<Figure size 640x480 with 9 Axes>"
            ],
            "image/png": "[encoded data removed]"
          },
          "metadata": {}
        },
        {
          "output_type": "stream",
          "name": "stdout",
          "text": [
            "(1, 28, 28, 1)\n",
            "1/1 [==============================] - 0s 103ms/step\n",
            "Prediccion:  7 Real:  7\n",
            "1/1 [==============================] - 0s 29ms/step\n",
            "Prediccion:  2 Real:  2\n",
            "1/1 [==============================] - 0s 20ms/step\n",
            "Prediccion:  1 Real:  1\n",
            "1/1 [==============================] - 0s 21ms/step\n",
            "Prediccion:  0 Real:  0\n",
            "1/1 [==============================] - 0s 23ms/step\n",
            "Prediccion:  4 Real:  4\n",
            "1/1 [==============================] - 0s 22ms/step\n",
            "Prediccion:  1 Real:  1\n",
            "1/1 [==============================] - 0s 21ms/step\n",
            "Prediccion:  4 Real:  4\n",
            "1/1 [==============================] - 0s 21ms/step\n",
            "Prediccion:  9 Real:  9\n",
            "1/1 [==============================] - 0s 20ms/step\n",
            "Prediccion:  5 Real:  5\n"
          ]
        }
      ]
    }
  ]
}